{
 "cells": [
  {
   "cell_type": "markdown",
   "source": [
    "\"\"\"\n",
    "Neuroimaging cartesian reconstruction\n",
    "=====================================\n",
    "Author: Chaithya G R\n",
    "In this tutorial we will reconstruct an MRI image from the sparse kspace\n",
    "measurements.\n",
    "Import neuroimaging data\n",
    "------------------------\n",
    "We use the toy datasets available in pysap, more specifically a 2D brain slice\n",
    "and the cartesian acquisition scheme.\n",
    "\"\"\"\n"
   ],
   "metadata": {
    "collapsed": false,
    "pycharm": {
     "name": "#%% md\n"
    }
   }
  },
  {
   "cell_type": "code",
   "execution_count": null,
   "outputs": [],
   "source": [
    "# Package import\n",
    "from modopt.math.metrics import ssim\n",
    "from mri.numerics.fourier import FFT2\n",
    "from mri.numerics.reconstruct import sparse_rec_condatvu\n",
    "from mri.numerics.utils import generate_operators\n",
    "from mri.numerics.utils import convert_mask_to_locations\n",
    "from pysap.data import get_sample_data\n",
    "import pysap\n",
    "\n",
    "# Third party import\n",
    "import numpy as np\n",
    "import matplotlib.pyplot as plt"
   ],
   "metadata": {
    "collapsed": false,
    "pycharm": {
     "name": "#%%\n"
    }
   }
  },
  {
   "cell_type": "code",
   "execution_count": null,
   "outputs": [],
   "source": [
    "# Loading input data\n",
    "image = get_sample_data('2d-mri')\n",
    "\n",
    "# Obtain K-Space Cartesian Mask\n",
    "mask = get_sample_data(\"cartesian-mri-mask\")\n",
    "\n",
    "# View Input\n",
    "plt.figure()\n",
    "plt.imshow(image, cmap='gray')\n",
    "plt.figure()\n",
    "plt.imshow(mask, cmap='gray')\n",
    "plt.show()"
   ],
   "metadata": {
    "collapsed": false,
    "pycharm": {
     "name": "#%%\n"
    }
   }
  },
  {
   "cell_type": "markdown",
   "source": [
    "Generate the kspace\n",
    "-------------------\n",
    "\n",
    "From the 2D brain slice and the acquisition mask, we retrospectively\n",
    "undersample the k-space using a cartesian acquisition mask\n",
    "We then reconstruct the zero order solution as a baseline"
   ],
   "metadata": {
    "collapsed": false,
    "pycharm": {
     "name": "#%% md\n"
    }
   }
  },
  {
   "cell_type": "markdown",
   "source": [
    "Get the locations of the kspace samples"
   ],
   "metadata": {
    "collapsed": false,
    "pycharm": {
     "name": "#%% md\n"
    }
   }
  },
  {
   "cell_type": "code",
   "execution_count": null,
   "outputs": [],
   "source": [
    "kspace_loc = convert_mask_to_locations(np.fft.fftshift(mask.data))\n",
    "# Generate the subsampled kspace\n",
    "fourier_op = FFT2(samples=kspace_loc, shape=image.shape)\n",
    "kspace_data = fourier_op.op(image)"
   ],
   "metadata": {
    "collapsed": false,
    "pycharm": {
     "name": "#%%\n"
    }
   }
  },
  {
   "cell_type": "markdown",
   "source": [
    "Zero order solution"
   ],
   "metadata": {
    "collapsed": false,
    "pycharm": {
     "name": "#%% md\n"
    }
   }
  },
  {
   "cell_type": "code",
   "execution_count": null,
   "outputs": [],
   "source": [
    "image_rec0 = pysap.Image(data=fourier_op.adj_op(kspace_data),\n",
    "                         metadata=image.metadata)\n",
    "plt.imshow(np.abs(image_rec0), cmap='gray')\n",
    "# Calculate SSIM\n",
    "base_ssim = ssim(image_rec0, image)\n",
    "print(base_ssim)"
   ],
   "metadata": {
    "collapsed": false,
    "pycharm": {
     "name": "#%%\n"
    }
   }
  },
  {
   "cell_type": "markdown",
   "source": [
    "FISTA optimization\n",
    "------------------\n",
    "\n",
    "We now want to refine the zero order solution using a FISTA optimization.\n",
    "The cost function is set to Proximity Cost + Gradient Cost"
   ],
   "metadata": {
    "collapsed": false,
    "pycharm": {
     "name": "#%% md\n"
    }
   }
  },
  {
   "cell_type": "markdown",
   "source": [
    "Generate operators"
   ],
   "metadata": {
    "collapsed": false,
    "pycharm": {
     "name": "#%% md\n"
    }
   }
  },
  {
   "cell_type": "code",
   "execution_count": null,
   "outputs": [],
   "source": [
    "gradient_op, linear_op, prox_op, cost_op = generate_operators(\n",
    "    data=kspace_data,\n",
    "    wavelet_name=\"sym8\",\n",
    "    samples=kspace_loc,\n",
    "    nb_scales=4,\n",
    "    mu=8 * 1e-7,\n",
    "    non_cartesian=False,\n",
    "    uniform_data_shape=None,\n",
    "    gradient_space=\"analysis\",\n",
    "    padding_mode=\"periodization\")"
   ],
   "metadata": {
    "collapsed": false,
    "pycharm": {
     "name": "#%%\n"
    }
   }
  },
  {
   "cell_type": "markdown",
   "source": [
    "Start the FISTA reconstruction"
   ],
   "metadata": {
    "collapsed": false,
    "pycharm": {
     "name": "#%% md\n"
    }
   }
  },
  {
   "cell_type": "code",
   "execution_count": null,
   "outputs": [],
   "source": [
    "max_iter = 200\n",
    "x_final, y_final, costs, metrics = sparse_rec_condatvu(\n",
    "    gradient_op,\n",
    "    linear_op,\n",
    "    prox_op,\n",
    "    cost_op,\n",
    "    nb_of_reweights=0,\n",
    "    max_nb_of_iter=max_iter,\n",
    "    verbose=1)\n",
    "image_rec = pysap.Image(data=np.abs(x_final))\n",
    "plt.imshow(image_rec, cmap='gray')\n",
    "# Calculate SSIM\n",
    "recon_ssim = ssim(image_rec, image)\n",
    "print('The Reconstruction SSIM is : ' + str(recon_ssim))\n",
    "plt.show()"
   ],
   "metadata": {
    "collapsed": false,
    "pycharm": {
     "name": "#%%\n"
    }
   }
  }
 ],
 "metadata": {
  "kernelspec": {
   "display_name": "Python 3",
   "language": "python",
   "name": "python3"
  },
  "language_info": {
   "codemirror_mode": {
    "name": "ipython",
    "version": 3
   },
   "file_extension": ".py",
   "mimetype": "text/x-python",
   "name": "python",
   "nbconvert_exporter": "python",
   "pygments_lexer": "ipython3",
   "version": "3.5.2"
  },
  "pycharm": {
   "stem_cell": {
    "cell_type": "raw",
    "source": [],
    "metadata": {
     "collapsed": false
    }
   }
  }
 },
 "nbformat": 4,
 "nbformat_minor": 2
}